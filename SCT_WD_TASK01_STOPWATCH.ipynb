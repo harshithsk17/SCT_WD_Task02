{
  "metadata": {
    "kernelspec": {
      "name": "python",
      "display_name": "Python (Pyodide)",
      "language": "python"
    },
    "language_info": {
      "codemirror_mode": {
        "name": "python",
        "version": 3
      },
      "file_extension": ".py",
      "mimetype": "text/x-python",
      "name": "python",
      "nbconvert_exporter": "python",
      "pygments_lexer": "ipython3",
      "version": "3.8"
    }
  },
  "nbformat_minor": 5,
  "nbformat": 4,
  "cells": [
    {
      "id": "401b5979-3546-45d2-949d-020966275a5d",
      "cell_type": "code",
      "source": "from IPython.display import display, HTML\n\nhtml_code = \"\"\"\n<!DOCTYPE html>\n<html>\n<head>\n<style>\n  .stopwatch-container {\n    font-family: Arial, sans-serif;\n    text-align: center;\n    margin-top: 20px;\n  }\n\n  #time {\n    font-size: 48px;\n    margin-bottom: 20px;\n  }\n\n  button {\n    padding: 10px 20px;\n    margin: 5px;\n    font-size: 16px;\n  }\n\n  #laps {\n    margin-top: 20px;\n    max-height: 200px;\n    overflow-y: auto;\n    text-align: left;\n    padding: 0 20%;\n  }\n\n  .lap-time {\n    border-bottom: 1px solid #ccc;\n    padding: 5px;\n  }\n</style>\n</head>\n<body>\n<div class=\"stopwatch-container\">\n  <div id=\"time\">00:00:00.000</div>\n  <button onclick=\"startStopwatch()\">Start</button>\n  <button onclick=\"pauseStopwatch()\">Pause</button>\n  <button onclick=\"resetStopwatch()\">Reset</button>\n  <button onclick=\"lapTime()\">Lap</button>\n  <div id=\"laps\"></div>\n</div>\n\n<script>\n  let startTime, elapsedTime = 0, timerInterval;\n\n  function timeToString(time) {\n    let diffInHrs = time / 3600000;\n    let hh = Math.floor(diffInHrs);\n\n    let diffInMin = (diffInHrs - hh) * 60;\n    let mm = Math.floor(diffInMin);\n\n    let diffInSec = (diffInMin - mm) * 60;\n    let ss = Math.floor(diffInSec);\n\n    let diffInMs = (diffInSec - ss) * 1000;\n    let ms = Math.floor(diffInMs);\n\n    return (\n      (hh < 10 ? \"0\" + hh : hh) + \":\" +\n      (mm < 10 ? \"0\" + mm : mm) + \":\" +\n      (ss < 10 ? \"0\" + ss : ss) + \".\" +\n      (ms < 100 ? (ms < 10 ? \"00\" + ms : \"0\" + ms) : ms)\n    );\n  }\n\n  function print(txt) {\n    document.getElementById(\"time\").innerHTML = txt;\n  }\n\n  function startStopwatch() {\n    startTime = Date.now() - elapsedTime;\n    timerInterval = setInterval(function printTime() {\n      elapsedTime = Date.now() - startTime;\n      print(timeToString(elapsedTime));\n    }, 10);\n  }\n\n  function pauseStopwatch() {\n    clearInterval(timerInterval);\n  }\n\n  function resetStopwatch() {\n    clearInterval(timerInterval);\n    print(\"00:00:00.000\");\n    elapsedTime = 0;\n    document.getElementById(\"laps\").innerHTML = \"\";\n  }\n\n  function lapTime() {\n    let lap = document.createElement(\"div\");\n    lap.className = \"lap-time\";\n    lap.textContent = timeToString(elapsedTime);\n    document.getElementById(\"laps\").appendChild(lap);\n  }\n</script>\n</body>\n</html>\n\"\"\"\n\ndisplay(HTML(html_code))",
      "metadata": {
        "trusted": true
      },
      "outputs": [
        {
          "output_type": "display_data",
          "data": {
            "text/plain": "<IPython.core.display.HTML object>",
            "text/html": "\n<!DOCTYPE html>\n<html>\n<head>\n<style>\n  .stopwatch-container {\n    font-family: Arial, sans-serif;\n    text-align: center;\n    margin-top: 20px;\n  }\n\n  #time {\n    font-size: 48px;\n    margin-bottom: 20px;\n  }\n\n  button {\n    padding: 10px 20px;\n    margin: 5px;\n    font-size: 16px;\n  }\n\n  #laps {\n    margin-top: 20px;\n    max-height: 200px;\n    overflow-y: auto;\n    text-align: left;\n    padding: 0 20%;\n  }\n\n  .lap-time {\n    border-bottom: 1px solid #ccc;\n    padding: 5px;\n  }\n</style>\n</head>\n<body>\n<div class=\"stopwatch-container\">\n  <div id=\"time\">00:00:00.000</div>\n  <button onclick=\"startStopwatch()\">Start</button>\n  <button onclick=\"pauseStopwatch()\">Pause</button>\n  <button onclick=\"resetStopwatch()\">Reset</button>\n  <button onclick=\"lapTime()\">Lap</button>\n  <div id=\"laps\"></div>\n</div>\n\n<script>\n  let startTime, elapsedTime = 0, timerInterval;\n\n  function timeToString(time) {\n    let diffInHrs = time / 3600000;\n    let hh = Math.floor(diffInHrs);\n\n    let diffInMin = (diffInHrs - hh) * 60;\n    let mm = Math.floor(diffInMin);\n\n    let diffInSec = (diffInMin - mm) * 60;\n    let ss = Math.floor(diffInSec);\n\n    let diffInMs = (diffInSec - ss) * 1000;\n    let ms = Math.floor(diffInMs);\n\n    return (\n      (hh < 10 ? \"0\" + hh : hh) + \":\" +\n      (mm < 10 ? \"0\" + mm : mm) + \":\" +\n      (ss < 10 ? \"0\" + ss : ss) + \".\" +\n      (ms < 100 ? (ms < 10 ? \"00\" + ms : \"0\" + ms) : ms)\n    );\n  }\n\n  function print(txt) {\n    document.getElementById(\"time\").innerHTML = txt;\n  }\n\n  function startStopwatch() {\n    startTime = Date.now() - elapsedTime;\n    timerInterval = setInterval(function printTime() {\n      elapsedTime = Date.now() - startTime;\n      print(timeToString(elapsedTime));\n    }, 10);\n  }\n\n  function pauseStopwatch() {\n    clearInterval(timerInterval);\n  }\n\n  function resetStopwatch() {\n    clearInterval(timerInterval);\n    print(\"00:00:00.000\");\n    elapsedTime = 0;\n    document.getElementById(\"laps\").innerHTML = \"\";\n  }\n\n  function lapTime() {\n    let lap = document.createElement(\"div\");\n    lap.className = \"lap-time\";\n    lap.textContent = timeToString(elapsedTime);\n    document.getElementById(\"laps\").appendChild(lap);\n  }\n</script>\n</body>\n</html>\n"
          },
          "metadata": {}
        }
      ],
      "execution_count": 1
    },
    {
      "id": "210b6a28-9f61-45a2-b4f7-63b1c2340f8f",
      "cell_type": "code",
      "source": "",
      "metadata": {
        "trusted": true
      },
      "outputs": [],
      "execution_count": null
    }
  ]
}